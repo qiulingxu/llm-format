{
 "cells": [
  {
   "cell_type": "code",
   "execution_count": 1,
   "metadata": {},
   "outputs": [],
   "source": [
    "# Copyright (c) Meta Platforms, Inc. and affiliates.\n",
    "# This software may be used and distributed according to the terms of the Llama 2 Community License Agreement.\n",
    "\n",
    "import torch\n",
    "# Installation guide for cu11.8 and cu12.1 https://docs.vllm.ai/en/latest/getting_started/installation.html\n",
    "from vllm import LLM\n",
    "from vllm import LLM, SamplingParams\n",
    "from llmformat.llminterface import build_vllm_logits_processor\n",
    "\n",
    "torch.cuda.manual_seed(42)\n",
    "torch.manual_seed(42)\n",
    "\n",
    "def load_model(model_dir, tp_size=1):\n",
    "    llm = LLM(model=model_dir, tensor_parallel_size=tp_size)\n",
    "    return llm\n",
    "\n"
   ]
  },
  {
   "cell_type": "code",
   "execution_count": 2,
   "metadata": {},
   "outputs": [],
   "source": [
    "def main(\n",
    "    model,\n",
    "    max_new_tokens=100,\n",
    "    user_prompt=None,\n",
    "    top_p=0.9,\n",
    "    temperature=0.8\n",
    "):\n",
    "    while True:\n",
    "        if user_prompt is None:\n",
    "            user_prompt = input(\"Enter your prompt: \")\n",
    "            \n",
    "        print(f\"User prompt:\\n{user_prompt}\")\n",
    "\n",
    "        print(f\"sampling params: top_p {top_p} and temperature {temperature} for this inference request\")\n",
    "        sampling_param = SamplingParams(top_p=top_p, \n",
    "                                        temperature=temperature, \n",
    "                                        max_tokens=max_new_tokens,\n",
    "                                        logits_processors=[\n",
    "                                            build_vllm_logits_processor(model, \"/root/llmformat/llmformat/json.bnf\")\n",
    "                                        ])\n",
    "\n",
    "        outputs = model.generate(user_prompt, sampling_params=sampling_param)\n",
    "   \n",
    "        print(f\"model output:\\n {user_prompt} {outputs[0].outputs[0].text}\")\n",
    "        user_prompt = input(\"Enter next prompt (press Enter to exit): \")\n",
    "        if not user_prompt:\n",
    "            break\n",
    "\n",
    "def run_script(\n",
    "    model_dir,\n",
    "    tp_size=1,\n",
    "    max_new_tokens=100,\n",
    "    user_prompt=None,\n",
    "    top_p=0.9,\n",
    "    temperature=0.8\n",
    "):\n",
    "    model = load_model(model_dir, tp_size)\n",
    "    main(model, max_new_tokens, user_prompt, top_p, temperature)\n"
   ]
  },
  {
   "cell_type": "code",
   "execution_count": 3,
   "metadata": {},
   "outputs": [
    {
     "name": "stdout",
     "output_type": "stream",
     "text": [
      "INFO 12-23 20:53:21 llm_engine.py:73] Initializing an LLM engine with config: model='meta-llama/Llama-2-7b-hf', tokenizer='meta-llama/Llama-2-7b-hf', tokenizer_mode=auto, revision=None, tokenizer_revision=None, trust_remote_code=False, dtype=torch.float16, max_seq_len=4096, download_dir=None, load_format=auto, tensor_parallel_size=1, quantization=None, enforce_eager=False, seed=0)\n"
     ]
    }
   ],
   "source": [
    "from transformers import AutoModelForCausalLM, AutoTokenizer\n",
    "from peft import PeftConfig, PeftModel\n",
    "local_dir = \"/root/model/llama-2-7b/\"\n",
    "run_script(\"meta-llama/Llama-2-7b-hf\")"
   ]
  }
 ],
 "metadata": {
  "kernelspec": {
   "display_name": "Python 3",
   "language": "python",
   "name": "python3"
  },
  "language_info": {
   "codemirror_mode": {
    "name": "ipython",
    "version": 3
   },
   "file_extension": ".py",
   "mimetype": "text/x-python",
   "name": "python",
   "nbconvert_exporter": "python",
   "pygments_lexer": "ipython3",
   "version": "3.10.0"
  },
  "orig_nbformat": 4
 },
 "nbformat": 4,
 "nbformat_minor": 2
}
